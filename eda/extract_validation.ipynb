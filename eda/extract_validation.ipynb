{
 "cells": [
  {
   "cell_type": "code",
   "execution_count": 1,
   "metadata": {},
   "outputs": [],
   "source": [
    "import geopandas as gpd"
   ]
  },
  {
   "cell_type": "code",
   "execution_count": 2,
   "metadata": {},
   "outputs": [],
   "source": [
    "import os"
   ]
  },
  {
   "cell_type": "code",
   "execution_count": 3,
   "metadata": {},
   "outputs": [
    {
     "data": {
      "text/plain": [
       "[]"
      ]
     },
     "execution_count": 3,
     "metadata": {},
     "output_type": "execute_result"
    }
   ],
   "source": [
    "PATH_PARQUETS = '/Users/raphaellaude/Documents/Projects/dxd/processed_data/unioned'\n",
    "\n",
    "os.listdir(PATH_PARQUETS)"
   ]
  },
  {
   "cell_type": "code",
   "execution_count": 7,
   "metadata": {},
   "outputs": [],
   "source": [
    "test03 = gpd.read_parquet('/Users/raphaellaude/Documents/Projects/dxd/processed_data/unioned/mappluto_02b.parquet')"
   ]
  },
  {
   "cell_type": "code",
   "execution_count": 8,
   "metadata": {},
   "outputs": [
    {
     "name": "stdout",
     "output_type": "stream",
     "text": [
      "<class 'geopandas.geodataframe.GeoDataFrame'>\n",
      "RangeIndex: 848338 entries, 0 to 848337\n",
      "Data columns (total 62 columns):\n",
      " #   Column      Non-Null Count   Dtype   \n",
      "---  ------      --------------   -----   \n",
      " 0   borough     848338 non-null  object  \n",
      " 1   block       848338 non-null  object  \n",
      " 2   lot         848338 non-null  int32   \n",
      " 3   cd2         848338 non-null  int32   \n",
      " 4   ct2000      844187 non-null  object  \n",
      " 5   cb2000      818902 non-null  object  \n",
      " 6   schoolDist  848338 non-null  int32   \n",
      " 7   ccDist      848338 non-null  int32   \n",
      " 8   zipCode     846666 non-null  object  \n",
      " 9   fireComp    844083 non-null  object  \n",
      " 10  healthArea  848338 non-null  int32   \n",
      " 11  healthCtr   848338 non-null  int32   \n",
      " 12  policePrct  848338 non-null  int32   \n",
      " 13  address     845817 non-null  object  \n",
      " 14  zoneDist1   846589 non-null  object  \n",
      " 15  zoneDist2   11944 non-null   object  \n",
      " 16  overlay1    77941 non-null   object  \n",
      " 17  overlay2    185 non-null     object  \n",
      " 18  spDist1     89199 non-null   object  \n",
      " 19  spDist2     180 non-null     object  \n",
      " 20  zoning1     846589 non-null  object  \n",
      " 21  zoning2     11944 non-null   object  \n",
      " 22  splitZone   846385 non-null  object  \n",
      " 23  bldgClass   846666 non-null  object  \n",
      " 24  landUse2    844026 non-null  object  \n",
      " 25  numEasmnt   848338 non-null  int32   \n",
      " 26  ownerType   116310 non-null  object  \n",
      " 27  ownerName   838505 non-null  object  \n",
      " 28  lotArea     848295 non-null  object  \n",
      " 29  floorArea   848332 non-null  object  \n",
      " 30  comArea     848333 non-null  object  \n",
      " 31  resArea     848337 non-null  object  \n",
      " 32  areaSource  848338 non-null  object  \n",
      " 33  numBldgs    848338 non-null  object  \n",
      " 34  numFloors   848338 non-null  object  \n",
      " 35  unitsRes    848338 non-null  object  \n",
      " 36  unitsTotal  848338 non-null  object  \n",
      " 37  lotFront    848338 non-null  object  \n",
      " 38  lotDepth    848338 non-null  object  \n",
      " 39  bldgFront   848338 non-null  object  \n",
      " 40  bldgDepth   848338 non-null  object  \n",
      " 41  irrLotCode  846684 non-null  object  \n",
      " 42  cornerLot   846684 non-null  object  \n",
      " 43  assessLand  847550 non-null  object  \n",
      " 44  assessTotl  846244 non-null  object  \n",
      " 45  exemptLand  848020 non-null  object  \n",
      " 46  exemptTotl  847370 non-null  object  \n",
      " 47  yearBuilt   848338 non-null  int32   \n",
      " 48  builtCode   613238 non-null  object  \n",
      " 49  yearAlter   848338 non-null  int32   \n",
      " 50  yearAlter2  848338 non-null  int32   \n",
      " 51  histDist    845473 non-null  object  \n",
      " 52  landmark    958 non-null     object  \n",
      " 53  FAR         848338 non-null  object  \n",
      " 54  maxAllwFAR  848338 non-null  object  \n",
      " 55  boroCode    730083 non-null  object  \n",
      " 56  TBL         91714 non-null   object  \n",
      " 57  tract2000   848338 non-null  object  \n",
      " 58  xCoord      848338 non-null  object  \n",
      " 59  yCoord      848338 non-null  object  \n",
      " 60  cogisPluto  848338 non-null  object  \n",
      " 61  geometry    845402 non-null  geometry\n",
      "dtypes: geometry(1), int32(11), object(50)\n",
      "memory usage: 365.7+ MB\n"
     ]
    }
   ],
   "source": [
    "test03.info()"
   ]
  },
  {
   "cell_type": "code",
   "execution_count": 10,
   "metadata": {},
   "outputs": [
    {
     "data": {
      "text/plain": [
       "<Axes: >"
      ]
     },
     "execution_count": 10,
     "metadata": {},
     "output_type": "execute_result"
    },
    {
     "data": {
      "image/png": "[encoded data removed]",
      "text/plain": [
       "<Figure size 640x480 with 1 Axes>"
      ]
     },
     "metadata": {},
     "output_type": "display_data"
    }
   ],
   "source": [
    "test03.sample(2000).plot()"
   ]
  },
  {
   "cell_type": "code",
   "execution_count": null,
   "metadata": {},
   "outputs": [],
   "source": []
  }
 ],
 "metadata": {
  "kernelspec": {
   "display_name": "Python 3 (ipykernel)",
   "language": "python",
   "name": "python3"
  },
  "language_info": {
   "codemirror_mode": {
    "name": "ipython",
    "version": 3
   },
   "file_extension": ".py",
   "mimetype": "text/x-python",
   "name": "python",
   "nbconvert_exporter": "python",
   "pygments_lexer": "ipython3",
   "version": "3.12.1"
  }
 },
 "nbformat": 4,
 "nbformat_minor": 2
}
