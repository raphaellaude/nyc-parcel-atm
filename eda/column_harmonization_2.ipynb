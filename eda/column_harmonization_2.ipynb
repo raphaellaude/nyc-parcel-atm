{
 "cells": [
  {
   "cell_type": "code",
   "execution_count": 1,
   "id": "d8edeced-b30d-4fc7-baf1-b17774e485df",
   "metadata": {},
   "outputs": [],
   "source": [
    "import duckdb\n",
    "import pandas as pd\n",
    "import matplotlib.pyplot as plt"
   ]
  },
  {
   "cell_type": "code",
   "execution_count": 3,
   "id": "3c203dec-7e62-4280-a348-a5f09323b154",
   "metadata": {},
   "outputs": [],
   "source": [
    "con = duckdb.connect(database='/Users/raphaellaude/Documents/Projects/dxd/v2/pluto_hist.db')"
   ]
  },
  {
   "cell_type": "code",
   "execution_count": 4,
   "id": "eb3e9494-a555-4910-a5ce-c12d9b6f5c2e",
   "metadata": {},
   "outputs": [],
   "source": [
    "con.query(\"install spatial; load spatial;\")"
   ]
  },
  {
   "cell_type": "code",
   "execution_count": 5,
   "id": "cd68fcc9-960e-4334-8e39-7a0856651fd7",
   "metadata": {},
   "outputs": [],
   "source": [
    "sql = \" union all \".join(\n",
    "    f\"select column_name, {x} as year from (describe pluto{str(x).zfill(2)}_shp)\"\n",
    "    for x\n",
    "    in range(2, 24)\n",
    ")\n",
    "\n",
    "# cursor = con.execute(f\"with columns as ({sql}) select column_name, count(*) from columns group by column_name having count(*) = 22\")\n",
    "cursor = con.execute(sql)"
   ]
  },
  {
   "cell_type": "code",
   "execution_count": 6,
   "id": "1b1b13b9-073a-4d46-a1b0-a8a34e3bf00a",
   "metadata": {},
   "outputs": [],
   "source": [
    "df = cursor.fetch_df()"
   ]
  },
  {
   "cell_type": "code",
   "execution_count": 8,
   "id": "84cca3bf-1435-486d-9f92-a68222e05670",
   "metadata": {},
   "outputs": [
    {
     "name": "stdout",
     "output_type": "stream",
     "text": [
      "45\n"
     ]
    },
    {
     "data": {
      "text/plain": [
       "['address',\n",
       " 'areasource',\n",
       " 'assessland',\n",
       " 'assesstot',\n",
       " 'bldgclass',\n",
       " 'bldgdepth',\n",
       " 'bldgfront',\n",
       " 'block',\n",
       " 'borocode',\n",
       " 'borough',\n",
       " 'builtfar',\n",
       " 'comarea',\n",
       " 'exempttot',\n",
       " 'firecomp',\n",
       " 'geom',\n",
       " 'histdist',\n",
       " 'irrlotcode',\n",
       " 'landmark',\n",
       " 'landuse',\n",
       " 'lot',\n",
       " 'lotarea',\n",
       " 'lotdepth',\n",
       " 'lotfront',\n",
       " 'numbldgs',\n",
       " 'numfloors',\n",
       " 'overlay1',\n",
       " 'overlay2',\n",
       " 'ownername',\n",
       " 'ownertype',\n",
       " 'policeprct',\n",
       " 'resarea',\n",
       " 'schooldist',\n",
       " 'spdist1',\n",
       " 'spdist2',\n",
       " 'splitzone',\n",
       " 'unitsres',\n",
       " 'unitstotal',\n",
       " 'xcoord',\n",
       " 'ycoord',\n",
       " 'yearalter1',\n",
       " 'yearalter2',\n",
       " 'yearbuilt',\n",
       " 'zipcode',\n",
       " 'zonedist1',\n",
       " 'zonedist2']"
      ]
     },
     "execution_count": 8,
     "metadata": {},
     "output_type": "execute_result"
    }
   ],
   "source": [
    "consistent_cols = df.groupby(\"column_name\").count()\n",
    "consistent_cols = consistent_cols[consistent_cols.year.eq(22)].copy()\n",
    "print(len(consistent_cols))\n",
    "\n",
    "list(consistent_cols.index)"
   ]
  },
  {
   "cell_type": "markdown",
   "id": "d9de514d-9657-43a3-a8cf-42400a27ee09",
   "metadata": {},
   "source": [
    "to include: landuse, zonedist1, assessland, assesstot, numfloors, yearbuilt, unitsres, bldgclass, yearalter1, builtfar"
   ]
  },
  {
   "cell_type": "code",
   "execution_count": 9,
   "id": "2674242d-67f2-4a48-8532-ee5b0535e66f",
   "metadata": {},
   "outputs": [],
   "source": [
    "to_include = [\n",
    "    \"landuse\", \"zonedist1\", \"assessland\", \"assesstot\",\n",
    "    \"numfloors\", \"yearbuilt\", \"unitsres\", \"bldgclass\",\n",
    "    \"yearalter1\", \"builtfar\"\n",
    "]"
   ]
  },
  {
   "cell_type": "code",
   "execution_count": 10,
   "id": "ec654082-de78-4fbb-bdbd-46f5479091d6",
   "metadata": {},
   "outputs": [
    {
     "data": {
      "text/html": [
       "<div>\n",
       "<style scoped>\n",
       "    .dataframe tbody tr th:only-of-type {\n",
       "        vertical-align: middle;\n",
       "    }\n",
       "\n",
       "    .dataframe tbody tr th {\n",
       "        vertical-align: top;\n",
       "    }\n",
       "\n",
       "    .dataframe thead th {\n",
       "        text-align: right;\n",
       "    }\n",
       "</style>\n",
       "<table border=\"1\" class=\"dataframe\">\n",
       "  <thead>\n",
       "    <tr style=\"text-align: right;\">\n",
       "      <th></th>\n",
       "      <th>year</th>\n",
       "    </tr>\n",
       "    <tr>\n",
       "      <th>column_name</th>\n",
       "      <th></th>\n",
       "    </tr>\n",
       "  </thead>\n",
       "  <tbody>\n",
       "    <tr>\n",
       "      <th>landuse</th>\n",
       "      <td>22</td>\n",
       "    </tr>\n",
       "    <tr>\n",
       "      <th>zonedist1</th>\n",
       "      <td>22</td>\n",
       "    </tr>\n",
       "    <tr>\n",
       "      <th>assessland</th>\n",
       "      <td>22</td>\n",
       "    </tr>\n",
       "    <tr>\n",
       "      <th>assesstot</th>\n",
       "      <td>22</td>\n",
       "    </tr>\n",
       "    <tr>\n",
       "      <th>numfloors</th>\n",
       "      <td>22</td>\n",
       "    </tr>\n",
       "    <tr>\n",
       "      <th>yearbuilt</th>\n",
       "      <td>22</td>\n",
       "    </tr>\n",
       "    <tr>\n",
       "      <th>unitsres</th>\n",
       "      <td>22</td>\n",
       "    </tr>\n",
       "    <tr>\n",
       "      <th>bldgclass</th>\n",
       "      <td>22</td>\n",
       "    </tr>\n",
       "    <tr>\n",
       "      <th>yearalter1</th>\n",
       "      <td>22</td>\n",
       "    </tr>\n",
       "    <tr>\n",
       "      <th>builtfar</th>\n",
       "      <td>22</td>\n",
       "    </tr>\n",
       "  </tbody>\n",
       "</table>\n",
       "</div>"
      ],
      "text/plain": [
       "             year\n",
       "column_name      \n",
       "landuse        22\n",
       "zonedist1      22\n",
       "assessland     22\n",
       "assesstot      22\n",
       "numfloors      22\n",
       "yearbuilt      22\n",
       "unitsres       22\n",
       "bldgclass      22\n",
       "yearalter1     22\n",
       "builtfar       22"
      ]
     },
     "execution_count": 10,
     "metadata": {},
     "output_type": "execute_result"
    }
   ],
   "source": [
    "consistent_cols.loc[to_include]"
   ]
  },
  {
   "cell_type": "code",
   "execution_count": 16,
   "id": "40da4ba6-b374-414c-ab75-992d265d36ec",
   "metadata": {},
   "outputs": [
    {
     "data": {
      "text/plain": [
       "┌─────────────────┐\n",
       "│ zonedist_simple │\n",
       "│     varchar     │\n",
       "├─────────────────┤\n",
       "│ R8              │\n",
       "│ R10             │\n",
       "│ R9              │\n",
       "│ M2              │\n",
       "│ C4              │\n",
       "│ R1              │\n",
       "│ PARK            │\n",
       "│ M3              │\n",
       "│ C7              │\n",
       "│ R3              │\n",
       "│ ·               │\n",
       "│ ·               │\n",
       "│ ·               │\n",
       "│ C1              │\n",
       "│ M1              │\n",
       "│ C5              │\n",
       "│ BPC             │\n",
       "│ R5              │\n",
       "│ R6              │\n",
       "│ R4              │\n",
       "│ R2              │\n",
       "│ C6              │\n",
       "│ C2              │\n",
       "├─────────────────┤\n",
       "│     24 rows     │\n",
       "│   (20 shown)    │\n",
       "└─────────────────┘"
      ]
     },
     "execution_count": 16,
     "metadata": {},
     "output_type": "execute_result"
    }
   ],
   "source": [
    "con.query(\"\"\"\n",
    "    select\n",
    "        distinct case\n",
    "            when zonedist1 like 'PARK%' then 'PARK'\n",
    "            when zonedist1 is null then 'NZS'\n",
    "            else regexp_extract(zonedist1, '^[A-Za-z]+[0-9]*', 0)\n",
    "        end as zonedist_simple\n",
    "    from pluto02_shp\n",
    "\"\"\")"
   ]
  },
  {
   "cell_type": "code",
   "execution_count": 25,
   "id": "499a0c25-8dcd-4dfd-9ab8-2f573571cbca",
   "metadata": {},
   "outputs": [
    {
     "name": "stdout",
     "output_type": "stream",
     "text": [
      "landuse\n",
      "┌─────────────┐\n",
      "│ column_type │\n",
      "│   varchar   │\n",
      "├─────────────┤\n",
      "│ VARCHAR     │\n",
      "└─────────────┘\n",
      "\n",
      "zonedist1\n",
      "┌─────────────┐\n",
      "│ column_type │\n",
      "│   varchar   │\n",
      "├─────────────┤\n",
      "│ VARCHAR     │\n",
      "└─────────────┘\n",
      "\n",
      "assessland\n",
      "┌─────────────┐\n",
      "│ column_type │\n",
      "│   varchar   │\n",
      "├─────────────┤\n",
      "│ DOUBLE      │\n",
      "└─────────────┘\n",
      "\n",
      "assesstot\n",
      "┌─────────────┐\n",
      "│ column_type │\n",
      "│   varchar   │\n",
      "├─────────────┤\n",
      "│ DOUBLE      │\n",
      "└─────────────┘\n",
      "\n",
      "numfloors\n",
      "┌─────────────┐\n",
      "│ column_type │\n",
      "│   varchar   │\n",
      "├─────────────┤\n",
      "│ DOUBLE      │\n",
      "└─────────────┘\n",
      "\n",
      "yearbuilt\n",
      "┌─────────────┐\n",
      "│ column_type │\n",
      "│   varchar   │\n",
      "├─────────────┤\n",
      "│ INTEGER     │\n",
      "└─────────────┘\n",
      "\n",
      "unitsres\n",
      "┌─────────────┐\n",
      "│ column_type │\n",
      "│   varchar   │\n",
      "├─────────────┤\n",
      "│ DOUBLE      │\n",
      "│ INTEGER     │\n",
      "│ BIGINT      │\n",
      "└─────────────┘\n",
      "\n",
      "bldgclass\n",
      "┌─────────────┐\n",
      "│ column_type │\n",
      "│   varchar   │\n",
      "├─────────────┤\n",
      "│ VARCHAR     │\n",
      "└─────────────┘\n",
      "\n",
      "yearalter1\n",
      "┌─────────────┐\n",
      "│ column_type │\n",
      "│   varchar   │\n",
      "├─────────────┤\n",
      "│ INTEGER     │\n",
      "└─────────────┘\n",
      "\n",
      "builtfar\n",
      "┌─────────────┐\n",
      "│ column_type │\n",
      "│   varchar   │\n",
      "├─────────────┤\n",
      "│ DOUBLE      │\n",
      "└─────────────┘\n",
      "\n"
     ]
    }
   ],
   "source": [
    "sql = \" union all \".join(\n",
    "    f\"select column_name, column_type from (describe pluto{str(x).zfill(2)}_shp)\"\n",
    "    for x\n",
    "    in range(2, 24)\n",
    ")\n",
    "for col in to_include:\n",
    "    print(col)\n",
    "    print(con.query(f\"select distinct column_type from ({sql}) where column_name = '{col}'\"))"
   ]
  },
  {
   "cell_type": "code",
   "execution_count": 64,
   "id": "5787d383-fde9-4679-abb5-b3ed53011c8e",
   "metadata": {},
   "outputs": [],
   "source": [
    "q = \"\"\"\n",
    "    SELECT\n",
    "        CAST(landuse AS INTEGER) AS landuse,\n",
    "        case\n",
    "            when zonedist1 like 'PARK%' then 'PARK'\n",
    "            when zonedist1 is null then 'NZS'\n",
    "            else regexp_extract(zonedist1, '^[A-Za-z]+[0-9]*', 0)\n",
    "        end as zonedist1,\n",
    "        assessland,\n",
    "        assesstot,\n",
    "        numfloors,\n",
    "        yearbuilt,\n",
    "        unitsres,\n",
    "        substring(bldgclass, 1, 1) as bldgclass,\n",
    "        yearalter1,\n",
    "        builtfar\n",
    "    FROM {table} WHERE geom IS NOT NULL\n",
    "    \"\"\"\n",
    "cursor = con.execute(\" union all \".join(q.format(table=f\"pluto{str(x).zfill(2)}_shp\") for x in range(2, 24)))"
   ]
  },
  {
   "cell_type": "code",
   "execution_count": 65,
   "id": "239d5529-7c81-4dc7-a0f2-2beb2e8ec3c9",
   "metadata": {},
   "outputs": [
    {
     "data": {
      "application/vnd.jupyter.widget-view+json": {
       "model_id": "304612de0da6451fa7b288130b82af18",
       "version_major": 2,
       "version_minor": 0
      },
      "text/plain": [
       "FloatProgress(value=0.0, layout=Layout(width='auto'), style=ProgressStyle(bar_color='black'))"
      ]
     },
     "metadata": {},
     "output_type": "display_data"
    }
   ],
   "source": [
    "big_df = cursor.fetch_df()"
   ]
  },
  {
   "cell_type": "code",
   "execution_count": 32,
   "id": "8a901b24-7d4c-4706-8754-026f2cd9384c",
   "metadata": {},
   "outputs": [
    {
     "data": {
      "text/html": [
       "<div>\n",
       "<style scoped>\n",
       "    .dataframe tbody tr th:only-of-type {\n",
       "        vertical-align: middle;\n",
       "    }\n",
       "\n",
       "    .dataframe tbody tr th {\n",
       "        vertical-align: top;\n",
       "    }\n",
       "\n",
       "    .dataframe thead th {\n",
       "        text-align: right;\n",
       "    }\n",
       "</style>\n",
       "<table border=\"1\" class=\"dataframe\">\n",
       "  <thead>\n",
       "    <tr style=\"text-align: right;\">\n",
       "      <th></th>\n",
       "      <th>landuse</th>\n",
       "      <th>assessland</th>\n",
       "      <th>assesstot</th>\n",
       "      <th>numfloors</th>\n",
       "      <th>yearbuilt</th>\n",
       "      <th>unitsres</th>\n",
       "      <th>yearalter1</th>\n",
       "      <th>builtfar</th>\n",
       "    </tr>\n",
       "  </thead>\n",
       "  <tbody>\n",
       "    <tr>\n",
       "      <th>count</th>\n",
       "      <td>1.874582e+07</td>\n",
       "      <td>1.882401e+07</td>\n",
       "      <td>1.882401e+07</td>\n",
       "      <td>1.882401e+07</td>\n",
       "      <td>1.882401e+07</td>\n",
       "      <td>1.882401e+07</td>\n",
       "      <td>1.882401e+07</td>\n",
       "      <td>1.882401e+07</td>\n",
       "    </tr>\n",
       "    <tr>\n",
       "      <th>mean</th>\n",
       "      <td>2.193307e+00</td>\n",
       "      <td>1.028952e+05</td>\n",
       "      <td>3.463605e+05</td>\n",
       "      <td>2.289454e+00</td>\n",
       "      <td>1.834604e+03</td>\n",
       "      <td>4.007535e+00</td>\n",
       "      <td>1.725302e+02</td>\n",
       "      <td>1.106018e+00</td>\n",
       "    </tr>\n",
       "    <tr>\n",
       "      <th>std</th>\n",
       "      <td>2.455430e+00</td>\n",
       "      <td>4.757246e+06</td>\n",
       "      <td>9.053465e+06</td>\n",
       "      <td>1.905981e+00</td>\n",
       "      <td>4.400112e+02</td>\n",
       "      <td>3.779287e+01</td>\n",
       "      <td>5.610308e+02</td>\n",
       "      <td>2.460061e+01</td>\n",
       "    </tr>\n",
       "    <tr>\n",
       "      <th>min</th>\n",
       "      <td>1.000000e+00</td>\n",
       "      <td>0.000000e+00</td>\n",
       "      <td>0.000000e+00</td>\n",
       "      <td>0.000000e+00</td>\n",
       "      <td>0.000000e+00</td>\n",
       "      <td>0.000000e+00</td>\n",
       "      <td>0.000000e+00</td>\n",
       "      <td>0.000000e+00</td>\n",
       "    </tr>\n",
       "    <tr>\n",
       "      <th>25%</th>\n",
       "      <td>1.000000e+00</td>\n",
       "      <td>6.000000e+03</td>\n",
       "      <td>1.927000e+04</td>\n",
       "      <td>2.000000e+00</td>\n",
       "      <td>1.920000e+03</td>\n",
       "      <td>1.000000e+00</td>\n",
       "      <td>0.000000e+00</td>\n",
       "      <td>4.700000e-01</td>\n",
       "    </tr>\n",
       "    <tr>\n",
       "      <th>50%</th>\n",
       "      <td>1.000000e+00</td>\n",
       "      <td>1.093600e+04</td>\n",
       "      <td>2.866300e+04</td>\n",
       "      <td>2.000000e+00</td>\n",
       "      <td>1.930000e+03</td>\n",
       "      <td>2.000000e+00</td>\n",
       "      <td>0.000000e+00</td>\n",
       "      <td>7.500000e-01</td>\n",
       "    </tr>\n",
       "    <tr>\n",
       "      <th>75%</th>\n",
       "      <td>2.000000e+00</td>\n",
       "      <td>1.771600e+04</td>\n",
       "      <td>5.406000e+04</td>\n",
       "      <td>2.500000e+00</td>\n",
       "      <td>1.955000e+03</td>\n",
       "      <td>2.000000e+00</td>\n",
       "      <td>0.000000e+00</td>\n",
       "      <td>1.250000e+00</td>\n",
       "    </tr>\n",
       "    <tr>\n",
       "      <th>max</th>\n",
       "      <td>1.100000e+01</td>\n",
       "      <td>3.211276e+09</td>\n",
       "      <td>7.775388e+09</td>\n",
       "      <td>3.000000e+02</td>\n",
       "      <td>2.040000e+03</td>\n",
       "      <td>4.767400e+04</td>\n",
       "      <td>3.031000e+03</td>\n",
       "      <td>5.208800e+04</td>\n",
       "    </tr>\n",
       "  </tbody>\n",
       "</table>\n",
       "</div>"
      ],
      "text/plain": [
       "            landuse    assessland     assesstot     numfloors     yearbuilt  \\\n",
       "count  1.874582e+07  1.882401e+07  1.882401e+07  1.882401e+07  1.882401e+07   \n",
       "mean   2.193307e+00  1.028952e+05  3.463605e+05  2.289454e+00  1.834604e+03   \n",
       "std    2.455430e+00  4.757246e+06  9.053465e+06  1.905981e+00  4.400112e+02   \n",
       "min    1.000000e+00  0.000000e+00  0.000000e+00  0.000000e+00  0.000000e+00   \n",
       "25%    1.000000e+00  6.000000e+03  1.927000e+04  2.000000e+00  1.920000e+03   \n",
       "50%    1.000000e+00  1.093600e+04  2.866300e+04  2.000000e+00  1.930000e+03   \n",
       "75%    2.000000e+00  1.771600e+04  5.406000e+04  2.500000e+00  1.955000e+03   \n",
       "max    1.100000e+01  3.211276e+09  7.775388e+09  3.000000e+02  2.040000e+03   \n",
       "\n",
       "           unitsres    yearalter1      builtfar  \n",
       "count  1.882401e+07  1.882401e+07  1.882401e+07  \n",
       "mean   4.007535e+00  1.725302e+02  1.106018e+00  \n",
       "std    3.779287e+01  5.610308e+02  2.460061e+01  \n",
       "min    0.000000e+00  0.000000e+00  0.000000e+00  \n",
       "25%    1.000000e+00  0.000000e+00  4.700000e-01  \n",
       "50%    2.000000e+00  0.000000e+00  7.500000e-01  \n",
       "75%    2.000000e+00  0.000000e+00  1.250000e+00  \n",
       "max    4.767400e+04  3.031000e+03  5.208800e+04  "
      ]
     },
     "execution_count": 32,
     "metadata": {},
     "output_type": "execute_result"
    }
   ],
   "source": [
    "big_df.describe()"
   ]
  },
  {
   "cell_type": "code",
   "execution_count": 34,
   "id": "3873d662-a788-4c2e-92ea-aca536ad0de6",
   "metadata": {},
   "outputs": [
    {
     "data": {
      "text/plain": [
       "landuse\n",
       "1.0     12366644\n",
       "2.0      2833140\n",
       "4.0      1107503\n",
       "11.0      672931\n",
       "5.0       506706\n",
       "8.0       261970\n",
       "3.0       261340\n",
       "6.0       254582\n",
       "10.0      252831\n",
       "7.0       136248\n",
       "9.0        91923\n",
       "Name: count, dtype: int64"
      ]
     },
     "execution_count": 34,
     "metadata": {},
     "output_type": "execute_result"
    }
   ],
   "source": [
    "big_df.landuse.value_counts()"
   ]
  },
  {
   "cell_type": "code",
   "execution_count": 38,
   "id": "c152c908-2159-45bb-a31b-33ca23515717",
   "metadata": {},
   "outputs": [],
   "source": [
    "from empiricaldist import Cdf"
   ]
  },
  {
   "cell_type": "code",
   "execution_count": 39,
   "id": "6afd1b81-9b29-477c-9c81-1bf2cd1edba8",
   "metadata": {},
   "outputs": [],
   "source": [
    "def decorate_cdf(title):\n",
    "    \"\"\"Labels the axes.\n",
    "    \n",
    "    title: string\n",
    "    \"\"\"\n",
    "    plt.xlabel('Quantity')\n",
    "    plt.ylabel('CDF')\n",
    "    plt.title(title)"
   ]
  },
  {
   "cell_type": "code",
   "execution_count": 44,
   "id": "f3c85a56-ab94-492d-ace7-47975c341cdf",
   "metadata": {},
   "outputs": [],
   "source": [
    "cdf1 = Cdf.from_seq(big_df.assessland)\n",
    "cdf2 = Cdf.from_seq(big_df.assesstot)"
   ]
  },
  {
   "cell_type": "code",
   "execution_count": 45,
   "id": "97a36b87-69da-47cf-93ff-3301d1a383cf",
   "metadata": {},
   "outputs": [
    {
     "data": {
      "image/png": "[encoded data removed]",
      "text/plain": [
       "<Figure size 640x480 with 1 Axes>"
      ]
     },
     "metadata": {},
     "output_type": "display_data"
    }
   ],
   "source": [
    "cdf1.plot()\n",
    "cdf2.plot()\n",
    "plt.xscale(\"log\")"
   ]
  },
  {
   "cell_type": "code",
   "execution_count": 47,
   "id": "8983a338-6fab-4247-beda-6e9b3d49523b",
   "metadata": {},
   "outputs": [
    {
     "data": {
      "image/png": "[encoded data removed]",
      "text/plain": [
       "<Figure size 640x480 with 1 Axes>"
      ]
     },
     "metadata": {},
     "output_type": "display_data"
    }
   ],
   "source": [
    "cdf1 = Cdf.from_seq(big_df.numfloors)\n",
    "cdf1.plot()\n",
    "plt.xscale(\"log\")"
   ]
  },
  {
   "cell_type": "code",
   "execution_count": 58,
   "id": "62a691b2-34a0-4148-a78a-86003e87b461",
   "metadata": {},
   "outputs": [
    {
     "data": {
      "image/png": "[encoded data removed]",
      "text/plain": [
       "<Figure size 640x480 with 1 Axes>"
      ]
     },
     "metadata": {},
     "output_type": "display_data"
    }
   ],
   "source": [
    "cdf1 = Cdf.from_seq(big_df.unitsres)\n",
    "cdf1.plot()\n",
    "plt.xscale(\"log\")"
   ]
  },
  {
   "cell_type": "code",
   "execution_count": 57,
   "id": "28b2cbaa-85af-407e-bedd-b94129cf1e20",
   "metadata": {},
   "outputs": [
    {
     "data": {
      "image/png": "[encoded data removed]",
      "text/plain": [
       "<Figure size 640x480 with 1 Axes>"
      ]
     },
     "metadata": {},
     "output_type": "display_data"
    }
   ],
   "source": [
    "cdf1 = Cdf.from_seq(big_df.builtfar)\n",
    "cdf1.plot()\n",
    "plt.xscale(\"log\")"
   ]
  },
  {
   "cell_type": "code",
   "execution_count": 66,
   "id": "d51cd05d-ff44-476f-ad5f-243fb2d6a4c8",
   "metadata": {},
   "outputs": [
    {
     "data": {
      "text/plain": [
       "bldgclass\n",
       "A    6949975\n",
       "B    5407437\n",
       "C    2941763\n",
       "S     735840\n",
       "V     673770\n",
       "K     416385\n",
       "G     335916\n",
       "D     300860\n",
       "O     149229\n",
       "R     137386\n",
       "E     132865\n",
       "M     122495\n",
       "F      99385\n",
       "Q      84760\n",
       "Z      74654\n",
       "W      61629\n",
       "U      50563\n",
       "I      27232\n",
       "P      23864\n",
       "L      22246\n",
       "H      18428\n",
       "N      13396\n",
       "Y      11392\n",
       "T       5470\n",
       "J       4239\n",
       "Name: count, dtype: int64"
      ]
     },
     "execution_count": 66,
     "metadata": {},
     "output_type": "execute_result"
    }
   ],
   "source": [
    "big_df.bldgclass.value_counts()"
   ]
  },
  {
   "cell_type": "code",
   "execution_count": 68,
   "id": "04f03fbe-134b-4391-ba37-e965c27f4cad",
   "metadata": {},
   "outputs": [
    {
     "data": {
      "text/plain": [
       "<Axes: ylabel='bldgclass'>"
      ]
     },
     "execution_count": 68,
     "metadata": {},
     "output_type": "execute_result"
    },
    {
     "data": {
      "image/png": "[encoded data removed]",
      "text/plain": [
       "<Figure size 640x480 with 1 Axes>"
      ]
     },
     "metadata": {},
     "output_type": "display_data"
    }
   ],
   "source": [
    "big_df.bldgclass.value_counts()[::-1].plot.barh()"
   ]
  },
  {
   "cell_type": "code",
   "execution_count": null,
   "id": "4dff6bf5-2106-4770-8deb-d87ebf506dce",
   "metadata": {},
   "outputs": [],
   "source": []
  }
 ],
 "metadata": {
  "kernelspec": {
   "display_name": "Python 3 (ipykernel)",
   "language": "python",
   "name": "python3"
  },
  "language_info": {
   "codemirror_mode": {
    "name": "ipython",
    "version": 3
   },
   "file_extension": ".py",
   "mimetype": "text/x-python",
   "name": "python",
   "nbconvert_exporter": "python",
   "pygments_lexer": "ipython3",
   "version": "3.12.2"
  }
 },
 "nbformat": 4,
 "nbformat_minor": 5
}
